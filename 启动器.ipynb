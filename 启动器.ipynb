{
 "cells": [
  {
   "cell_type": "markdown",
   "id": "872c9ae2-3998-441e-9c21-2330b7a17219",
   "metadata": {},
   "source": [
    "# Saturn超简单启动脚本bilibili作者：NYAN9 \n",
    "# 不会代码也能看懂！问题反馈群632428790\n",
    "## 已支持手机端运行"
   ]
  },
  {
   "cell_type": "markdown",
   "id": "4763f9ed-2182-4114-bd70-d99144986c38",
   "metadata": {},
   "source": [
    "---------------"
   ]
  },
  {
   "cell_type": "code",
   "execution_count": 1,
   "id": "2d43cce5-041b-4e93-82d5-3690b7a9474d",
   "metadata": {
    "execution": {
     "iopub.execute_input": "2023-08-20T16:41:15.944175Z",
     "iopub.status.busy": "2023-08-20T16:41:15.943984Z",
     "iopub.status.idle": "2023-08-20T16:41:15.952102Z",
     "shell.execute_reply": "2023-08-20T16:41:15.951331Z",
     "shell.execute_reply.started": "2023-08-20T16:41:15.944156Z"
    }
   },
   "outputs": [
    {
     "name": "stdout",
     "output_type": "stream",
     "text": [
      "Hello World！你好 世界！\n"
     ]
    }
   ],
   "source": [
    "# 测试Python环境是否生效\n",
    "print('Hello World！你好 世界！')"
   ]
  },
  {
   "cell_type": "markdown",
   "id": "f23f2fe4-24fd-4345-8510-7053e97e8aa6",
   "metadata": {},
   "source": [
    "## 运行下面代码即可启动 Webui，下列启动参数中，**True表示是，False表示否，#表示注释**"
   ]
  },
  {
   "cell_type": "code",
   "execution_count": null,
   "id": "99504292-b973-413d-bfe2-2f69168e687c",
   "metadata": {
    "tags": []
   },
   "outputs": [],
   "source": [
    "强制使用xformers = True #加快生成速度，推荐打开\n",
    "取消模型哈希值计算 = False #取消sha256模型哈希值计算，加快模型切换速度，但是会导致图像信息无法显示模型\n",
    "启动API = True #可以用于接入AI画图网站，如果你要开画图机器人，请务必开这个\n",
    "取消VAE半精度 = True #VAE全精度可以减少黑图概率\n",
    "取消模型半精度 = False #生成速度减半，效果实测没多大提升\n",
    "cross_attention优化方案 = '--opt-sdp-no-mem-attention' # 或者--opt-sdp-attention，均可加快生成速度\n",
    "通过公网链接分享给别人gradio内网穿透 = False #此平台不可用、\n",
    "低内存优化 = True\n",
    "\n",
    "'------------------------以下代码不要改哦------------------------'\n",
    "'------------------------以下代码不要改哦------------------------'\n",
    "'------------------------以下代码不要改哦------------------------'\n",
    "import os\n",
    "其它参数 = ''\n",
    "python执行 = '/opt/saturncloud/envs/saturn/bin/python' #如果有venv环境，换成venv路径\n",
    "启动webui的py文件 = '/home/jovyan/workspace/stable-diffusion-webui/launch.py'\n",
    "\n",
    "if 强制使用xformers:\n",
    "    其它参数 += ' --xformers'\n",
    "if 取消模型哈希值计算:\n",
    "    其它参数 += ' --no-hashing'\n",
    "if 启动API:\n",
    "    其它参数 += ' --api'\n",
    "if 取消VAE半精度:\n",
    "    其它参数 += ' --no-half-vae'\n",
    "if 取消模型半精度:\n",
    "    其它参数 += ' --no-half'\n",
    "if 低内存优化:\n",
    "    其它参数 += ' --lowram'\n",
    "必须的启动参数 = '--port 8000 --listen --theme dark' \n",
    "安装目录 = '/home/jovyan/workspace/'\n",
    "%cd $安装目录\n",
    "!mkdir RAM优化器\n",
    "!wget https://github.com/camenduru/gperftools/releases/download/v1.0/libtcmalloc_minimal.so.4 -O RAM优化器/libtcmalloc_minimal.so.4 > /dev/null 2>&1\n",
    "print('内存优化已安装')\n",
    "!sed -i -e '''/        prepare_environment()/a\\        os.system\\(f\\\"\"\"sed -i -e ''\\\"s/dict()))/dict())).cuda()/g\\\"'' /home/jovyan/workspace/stable-diffusion-webui/repositories/stable-diffusion-stability-ai/ldm/util.py\"\"\")''' /home/jovyan/workspace/stable-diffusion-webui/launch.py\n",
    "!sed -i -e 's/\\[\"sd_model_checkpoint\"\\]/\\[\"sd_model_checkpoint\",\"sd_vae\",\"CLIP_stop_at_last_layers\"\\]/g' /home/jovyan/workspace/stable-diffusion-webui/modules/shared.py\n",
    "!python3 {启动webui的py文件} {必须的启动参数} {其它参数} {cross_attention优化方案}"
   ]
  },
  {
   "cell_type": "markdown",
   "id": "c4362dcd-4099-4747-b04e-3dcac3353c2b",
   "metadata": {
    "execution": {
     "iopub.execute_input": "2023-08-20T16:14:49.261721Z",
     "iopub.status.busy": "2023-08-20T16:14:49.261372Z",
     "iopub.status.idle": "2023-08-20T16:14:49.269418Z",
     "shell.execute_reply": "2023-08-20T16:14:49.268792Z",
     "shell.execute_reply.started": "2023-08-20T16:14:49.261692Z"
    }
   },
   "source": [
    "# 模型，插件下载器（把模型下载直链放到对应列表里）\n",
    "## C站和Huggingface获取下载直链方法：模型下载按钮右键(手机端长按)，复制链接\n",
    "## 对于百度网盘，无解。建议下载到本地然后上传到Huggingface"
   ]
  },
  {
   "cell_type": "code",
   "execution_count": 5,
   "id": "ede4be7c-cca4-4799-8fd1-034d24620a6a",
   "metadata": {
    "execution": {
     "iopub.execute_input": "2023-08-21T02:48:17.528605Z",
     "iopub.status.busy": "2023-08-21T02:48:17.528246Z",
     "iopub.status.idle": "2023-08-21T02:48:17.679918Z",
     "shell.execute_reply": "2023-08-21T02:48:17.678904Z",
     "shell.execute_reply.started": "2023-08-21T02:48:17.528580Z"
    },
    "tags": []
   },
   "outputs": [
    {
     "name": "stdout",
     "output_type": "stream",
     "text": [
      "/home/jovyan/workspace/stable-diffusion-webui\n",
      "安装插件中\n",
      "下载模型中\n"
     ]
    },
    {
     "name": "stderr",
     "output_type": "stream",
     "text": [
      "Cloning into 'stable-diffusion-webui-composable-lora'...\n",
      "fatal: could not read Username for 'https://github.com': No such device or address\n"
     ]
    },
    {
     "ename": "NameError",
     "evalue": "name 'sam_model_urls' is not defined",
     "output_type": "error",
     "traceback": [
      "\u001b[0;31m---------------------------------------------------------------------------\u001b[0m",
      "\u001b[0;31mNameError\u001b[0m                                 Traceback (most recent call last)",
      "Cell \u001b[0;32mIn[5], line 140\u001b[0m\n\u001b[1;32m    138\u001b[0m tasks\u001b[38;5;241m.\u001b[39mextend(download_links(embeddings_model_urls, \u001b[38;5;124mf\u001b[39m\u001b[38;5;124m'\u001b[39m\u001b[38;5;132;01m{\u001b[39;00minstall_path\u001b[38;5;132;01m}\u001b[39;00m\u001b[38;5;124m/stable-diffusion-webui/embeddings\u001b[39m\u001b[38;5;124m'\u001b[39m))\n\u001b[1;32m    139\u001b[0m tasks\u001b[38;5;241m.\u001b[39mextend(download_links(tags_file_urls, \u001b[38;5;124mf\u001b[39m\u001b[38;5;124m'\u001b[39m\u001b[38;5;132;01m{\u001b[39;00minstall_path\u001b[38;5;132;01m}\u001b[39;00m\u001b[38;5;124m/stable-diffusion-webui/extensions/a1111-sd-webui-tagcomplete/tags\u001b[39m\u001b[38;5;124m'\u001b[39m))\n\u001b[0;32m--> 140\u001b[0m tasks\u001b[38;5;241m.\u001b[39mextend(download_links(\u001b[43msam_model_urls\u001b[49m, \u001b[38;5;124mf\u001b[39m\u001b[38;5;124m'\u001b[39m\u001b[38;5;132;01m{\u001b[39;00minstall_path\u001b[38;5;132;01m}\u001b[39;00m\u001b[38;5;124m/stable-diffusion-webui/extensions/sd-webui-segment-anything/models/sam\u001b[39m\u001b[38;5;124m'\u001b[39m))\n\u001b[1;32m    141\u001b[0m download_links_all(tasks)\n\u001b[1;32m    142\u001b[0m \u001b[38;5;28mprint\u001b[39m(\u001b[38;5;124m'\u001b[39m\u001b[38;5;124m下载完毕\u001b[39m\u001b[38;5;124m'\u001b[39m)\n",
      "\u001b[0;31mNameError\u001b[0m: name 'sam_model_urls' is not defined"
     ]
    }
   ],
   "source": [
    "# 模型列表 一行一个 可以填文件 文件夹 和下载地址，如果需要自定义文件名，在url前写上文件名加:\n",
    "  '这个‘#’是注释符号，不会对代码代码造成影响，方便理解'\n",
    "\n",
    "模型列表 = '''\n",
    "https://civitai.com/api/download/models/46846 #Rev animated 2.5D模型\n",
    "https://huggingface.co/datasets/ACCA225/model/resolve/main/二次元.safetensors #作者自融模型\n",
    "'''\n",
    "VAE列表 = '''\n",
    "https://huggingface.co/stabilityai/sd-vae-ft-mse-original/resolve/main/vae-ft-mse-840000-ema-pruned.safetensors\n",
    "https://huggingface.co/WarriorMama777/OrangeMixs/resolve/main/VAEs/orangemix.vae.pt\n",
    "'''\n",
    "Lora列表 = '''\n",
    "https://huggingface.co/YoungMasterFromSect/Trauter_LoRAs/resolve/main/LoRA/Genshin-Impact/Yelan/Yelan_Soft.safetensors\n",
    "https://civitai.com/api/download/models/14856\n",
    "'''\n",
    "LyCORIS列表 = '''\n",
    "https://civitai.com/api/download/models/46821\n",
    "https://huggingface.co/YoungMasterFromSect/Trauter_LoRAs/resolve/main/LoRA/Genshin-Impact/Ganyu/Ganyu_Medium.safetensors\n",
    "'''\n",
    "hypernetworks列表 = '''\n",
    "\n",
    "'''\n",
    "embeddings列表 = '''\n",
    "\n",
    "'''\n",
    "controlNet模型列表 = '''\n",
    "https://huggingface.co/webui/ControlNet-modules-safetensors/resolve/main/control_canny-fp16.safetensors\n",
    "https://huggingface.co/webui/ControlNet-modules-safetensors/resolve/main/control_depth-fp16.safetensors\n",
    "https://huggingface.co/webui/ControlNet-modules-safetensors/resolve/main/control_hed-fp16.safetensors\n",
    "https://huggingface.co/webui/ControlNet-modules-safetensors/resolve/main/control_mlsd-fp16.safetensors\n",
    "https://huggingface.co/webui/ControlNet-modules-safetensors/resolve/main/control_normal-fp16.safetensors\n",
    "https://huggingface.co/webui/ControlNet-modules-safetensors/resolve/main/control_openpose-fp16.safetensors\n",
    "https://huggingface.co/webui/ControlNet-modules-safetensors/resolve/main/control_scribble-fp16.safetensors\n",
    "https://huggingface.co/webui/ControlNet-modules-safetensors/resolve/main/control_seg-fp16.safetensors\n",
    "https://huggingface.co/DionTimmer/controlnet_qrcode-control_v1p_sd15/resolve/main/control_v1p_sd15_qrcode.safetensors #艺术二维码模型\n",
    "\n",
    "'''\n",
    "# git仓库\n",
    "插件列表='''\n",
    "https://github.com/Elldreth/loopback_scaler\n",
    "https://github.com/jexom/sd-webui-depth-lib\n",
    "https://github.com/AlUlkesh/stable-diffusion-webui-images-browser\n",
    "https://github.com/camenduru/sd-civitai-browser\n",
    "https://github.com/Mikubill/sd-webui-controlnet\n",
    "https://github.com/nonnonstop/sd-webui-3d-open-pose-editor\n",
    "https://github.com/2575044704/stable-diffusion-webui-localization-zh_CN2\n",
    "https://github.com/opparco/stable-diffusion-webui-two-shot\n",
    "https://github.com/minicacas/stable-diffusion-webui-composable-lora\n",
    "https://github.com/DominikDoom/a1111-sd-webui-tagcomplete\n",
    "https://github.com/pkuliyi2015/multidiffusion-upscaler-for-automatic1111\n",
    "https://github.com/KohakuBlueleaf/a1111-sd-webui-locon\n",
    "https://github.com/hnmr293/sd-webui-cutoff\n",
    "https://github.com/hako-mikan/sd-webui-lora-block-weight\n",
    "https://github.com/butaixianran/Stable-Diffusion-Webui-Civitai-Helper\n",
    "https://github.com/catppuccin/stable-diffusion-webui\n",
    "https://github.com/Nevysha/Cozy-Nest\n",
    "https://github.com/Scholar01/sd-webui-mov2mov\n",
    "https://github.com/toriato/stable-diffusion-webui-wd14-tagger\n",
    "https://github.com/Physton/sd-webui-prompt-all-in-one\n",
    "https://github.com/KohakuBlueleaf/a1111-sd-webui-lycoris\n",
    "https://github.com/deforum-art/sd-webui-deforum\n",
    "https://github.com/Scholar01/sd-webui-mov2mov\n",
    "https://github.com/zanllp/sd-webui-infinite-image-browsing\n",
    "https://github.com/continue-revolution/sd-webui-segment-anything\n",
    "'''\n",
    "tag词库 = '''\n",
    "https://huggingface.co/datasets/sukaka/sd_configs/resolve/main/danbooru.zh_CN.csv\n",
    "'''\n",
    "'--------------------------------------------------------以下代码不要改哦----------------------------------------------------'\n",
    "'--------------------------------------------------------以下代码不要改哦----------------------------------------------------'\n",
    "'--------------------------------------------------------以下代码不要改哦----------------------------------------------------'\n",
    "import os\n",
    "import re\n",
    "install_path = '/home/jovyan/workspace/'\n",
    "enableLoadByCopy=False # 是否使用copy的方式加载文件 启动变慢，且测试后没有提高模型切换速度\n",
    "# 模型目录 文件名称:链接的方式指定文件名\n",
    "sd_model_urls = []+[item.strip() for item in 模型列表.split('\\n') if item.strip() ]\n",
    "# vae列表\n",
    "vae_model_urls = []+[item.strip() for item in VAE列表.split('\\n') if item.strip()]\n",
    "# 此配置内的目录下所有文件将加载到hypernetworks文件夹\n",
    "hypernetworks_model_urls = []+[item.strip() for item in hypernetworks列表.split('\\n') if item.strip()] \n",
    "# 此配置内的目录下所有文件将加载到embeddings文件夹\n",
    "embeddings_model_urls = [] +[item.strip() for item in embeddings列表.split('\\n') if item.strip()]\n",
    "# 此配置内的目录下所有文件将加载到Lora文件夹\n",
    "lora_model_urls = []+[item.strip() for item in Lora列表.split('\\n') if item.strip()] \n",
    "\n",
    "lyCORISModelDirs = []+[item.strip() for item in LyCORIS列表.split('\\n') if item.strip()] \n",
    "# controlNet插件模型列表\n",
    "cn_model_urls=[] +[item.strip() for item in controlNet模型列表.split('\\n') if item.strip()]\n",
    "# 插件列表\n",
    "extensions=[]+[item.strip() for item in 插件列表.split('\\n') if item.strip()]\n",
    "tags_file_urls=[] +[item.strip() for item in tag词库.split('\\n') if item.strip()]\n",
    "# 配置文件链接\n",
    "linkHypernetworksDir=False # 链接 hypernetworks 目录到输出目录\n",
    "linkEmbeddingsDir=False # 链接 embeddings 目录到输出目录\n",
    "linkTextual_inversionDir=False # 链接 textual_inversion 目录到输出目录 如果需要保存训练过程的产出文件时建议开启\n",
    "\n",
    "\n",
    "from concurrent.futures import ThreadPoolExecutor\n",
    "# 安装插件，下载和同步模型\n",
    "def install_extensions(install_path, extensions):\n",
    "    print('安装插件中')\n",
    "    os.chdir(os.path.join(install_path, 'stable-diffusion-webui'))\n",
    "    os.makedirs('extensions', exist_ok=True)\n",
    "    os.chdir('extensions')\n",
    "\n",
    "    def clone_repo(ex):\n",
    "        repo_name = ex.split('/')[-1]\n",
    "        if not os.path.exists(repo_name):\n",
    "            os.system('git clone ' + ex)\n",
    "\n",
    "    with ThreadPoolExecutor(max_workers=4) as executor:\n",
    "        executor.map(clone_repo, extensions)\n",
    "    \n",
    "def download_link(link, target_folder):\n",
    "    if link.startswith('https://huggingface.co/' or 'https://dl.fbaipublicfiles.com'):\n",
    "        filename = re.search(r'[^/]+$', link).group(0)\n",
    "        return f'aria2c --console-log-level=error -q -c -x 16 -s 16 -k 1M -d \"{target_folder}\" -o \"{filename}\" \"{link}\"'\n",
    "    else:\n",
    "        return f'aria2c --console-log-level=error -q -c -x 16 -s 16 -k 1M --remote-time -d \"{target_folder}\" \"{link}\"'\n",
    "\n",
    "def download_links(links, target_folder):\n",
    "    tasks = []\n",
    "    for link in links:\n",
    "        tasks.append(download_link(link, target_folder))\n",
    "    return tasks\n",
    "\n",
    "def download_links_all(tasks):\n",
    "    with ThreadPoolExecutor(max_workers=4) as executor:\n",
    "        for task in tasks:\n",
    "            executor.submit(os.system, task)\n",
    "\n",
    "%cd $install_path/stable-diffusion-webui\n",
    "install_extensions(install_path, extensions)\n",
    "print('下载模型中')\n",
    "tasks = []\n",
    "tasks.extend(download_links(vae_model_urls, f'{install_path}/stable-diffusion-webui/models/VAE'))\n",
    "tasks.extend(download_links(sd_model_urls, f'{install_path}/stable-diffusion-webui/models/Stable-diffusion'))\n",
    "tasks.extend(download_links(lora_model_urls, f'{install_path}/stable-diffusion-webui/models/Lora'))\n",
    "tasks.extend(download_links(cn_model_urls, f'{install_path}/stable-diffusion-webui/extensions/sd-webui-controlnet/models'))\n",
    "tasks.extend(download_links(hypernetworks_model_urls, f'{install_path}/stable-diffusion-webui/models/hypernetworks'))\n",
    "tasks.extend(download_links(embeddings_model_urls, f'{install_path}/stable-diffusion-webui/embeddings'))\n",
    "tasks.extend(download_links(tags_file_urls, f'{install_path}/stable-diffusion-webui/extensions/a1111-sd-webui-tagcomplete/tags'))\n",
    "#tasks.extend(download_links(sam_model_urls, f'{install_path}/stable-diffusion-webui/extensions/sd-webui-segment-anything/models/sam'))\n",
    "download_links_all(tasks)\n",
    "print('下载完毕')"
   ]
  },
  {
   "cell_type": "code",
   "execution_count": null,
   "id": "f5f7ac2a-2e15-4e84-9edb-d255a416c6ea",
   "metadata": {},
   "outputs": [],
   "source": []
  }
 ],
 "metadata": {
  "kernelspec": {
   "display_name": "saturn (Python 3)",
   "language": "python",
   "name": "python3"
  },
  "language_info": {
   "codemirror_mode": {
    "name": "ipython",
    "version": 3
   },
   "file_extension": ".py",
   "mimetype": "text/x-python",
   "name": "python",
   "nbconvert_exporter": "python",
   "pygments_lexer": "ipython3",
   "version": "3.9.17"
  }
 },
 "nbformat": 4,
 "nbformat_minor": 5
}
